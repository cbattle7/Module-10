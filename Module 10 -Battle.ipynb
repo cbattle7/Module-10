{
 "cells": [
  {
   "cell_type": "code",
   "execution_count": null,
   "id": "fd4e235f",
   "metadata": {},
   "outputs": [],
   "source": [
    "names=[\"rock\",\"paper\",\"scissors\"]\n",
    "name=input(\"Select rock,paper,scissor: \")\n"
   ]
  },
  {
   "cell_type": "code",
   "execution_count": 1,
   "id": "f2eb9244",
   "metadata": {},
   "outputs": [
    {
     "name": "stdout",
     "output_type": "stream",
     "text": [
      "Select rock, paper or scissor:rock\n",
      "You chose   rock\n",
      "The computer chose  rock\n",
      "It's a draw.\n",
      "Do you wish to continue?  (y/n)y\n",
      "Do you wish to continue?  (y/n)n\n",
      "Thank you for playing\n"
     ]
    }
   ],
   "source": [
    "\n",
    "\n",
    "\n",
    "choices=[\"rock\",\"paper\",\"scissors\"]\n",
    "\n",
    "user1=input(\"Select rock, paper or scissor:\")\n",
    "\n",
    "\n",
    "import random\n",
    "i= choices[random.randint (0,2)]\n",
    "\n",
    "print(\"You chose   \"+ user1)\n",
    "print(\"The computer chose  \"+ i)\n",
    "\n",
    "\n",
    "\n",
    "\n",
    "\n",
    "if user1 > i: \n",
    "    print (\"You win!\") \n",
    "if user1 < i:\n",
    "    print (\"You lose.\") \n",
    "if user1==i:\n",
    "    print (\"It's a draw.\")\n",
    "\n",
    "\n",
    "\n",
    "cont=\"y\"\n",
    "while cont==\"y\":\n",
    "    cont=input(\"Do you wish to continue?  (y/n)\")\n",
    "\n",
    "\n",
    "    \n",
    "\n",
    "print(\"Thank you for playing\")\n"
   ]
  },
  {
   "cell_type": "code",
   "execution_count": 2,
   "id": "5bfdc28e",
   "metadata": {},
   "outputs": [],
   "source": [
    "#Set a play choice (rock, paper, or scissors)\n",
    "\n",
    "#Rock beats scissors\n",
    "#Scissors beats paper\n",
    "#Paper beats rock\n",
    "\n",
    "#If the user wins, then display \"You win!\" \n",
    "#If they lose against the computer, then display \"You lose.\" \n",
    "#If the computer and the user have the same play choice, display \"It's a draw.\""
   ]
  },
  {
   "cell_type": "code",
   "execution_count": null,
   "id": "42a8f02e",
   "metadata": {},
   "outputs": [],
   "source": []
  }
 ],
 "metadata": {
  "kernelspec": {
   "display_name": "Python 3 (ipykernel)",
   "language": "python",
   "name": "python3"
  },
  "language_info": {
   "codemirror_mode": {
    "name": "ipython",
    "version": 3
   },
   "file_extension": ".py",
   "mimetype": "text/x-python",
   "name": "python",
   "nbconvert_exporter": "python",
   "pygments_lexer": "ipython3",
   "version": "3.9.7"
  }
 },
 "nbformat": 4,
 "nbformat_minor": 5
}
